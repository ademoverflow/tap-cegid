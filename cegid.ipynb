{
 "cells": [
  {
   "cell_type": "code",
   "execution_count": 7,
   "id": "af15f193-b1de-4749-8d07-f94d16e975b7",
   "metadata": {},
   "outputs": [],
   "source": [
    "import requests\n",
    "\n",
    "from tap_cegid.utils.authenticate import get_token"
   ]
  },
  {
   "cell_type": "code",
   "execution_count": 2,
   "id": "144eb6b8-7bb5-43da-a9a7-81bb585eeaa1",
   "metadata": {},
   "outputs": [],
   "source": [
    "# These credentials should be stored securely (e.g., environment variables)\n",
    "USERNAME = \"ASHOP@90012132_002_TEST\"\n",
    "PASSWORD = \"Ashop&Colorz92\"\n",
    "    \n",
    "# Get the token\n",
    "tokens = get_token(username=USERNAME, password=PASSWORD)"
   ]
  },
  {
   "cell_type": "code",
   "execution_count": 4,
   "id": "b6de9045-720d-4e98-9262-a5beb18d6773",
   "metadata": {},
   "outputs": [],
   "source": [
    "access_token = tokens['access_token']"
   ]
  },
  {
   "cell_type": "code",
   "execution_count": 20,
   "id": "2068726f-6957-4acb-ae7e-19556aa46b31",
   "metadata": {},
   "outputs": [],
   "source": [
    "base_url = \"https://90012132-test-retail-ondemand.cegid.cloud/Y2/90012132_002_TEST/api\"\n",
    "endpoint = f\"{base_url}/customer-documents/v1\"\n",
    "    \n",
    "headers = {\n",
    "    \"Authorization\": f\"Bearer {access_token}\",\n",
    "    \"Accept\": \"application/json\"\n",
    "}\n",
    "params = {\n",
    "    \"documentType\": \"CustomerOrder\",\n",
    "    \"paging.pageIndex\": \"1\",\n",
    "    \"paging.pageSize\": 100,\n",
    "}\n",
    "response = requests.get(endpoint, headers=headers, params=params)\n",
    "data = response.json()\n"
   ]
  },
  {
   "cell_type": "code",
   "execution_count": 21,
   "id": "30dd548a-313f-4f38-b79b-71a271974088",
   "metadata": {},
   "outputs": [],
   "source": [
    "from pprint import pprint"
   ]
  },
  {
   "cell_type": "code",
   "execution_count": 26,
   "id": "60afbe1a-8f28-4824-8e82-ad6e3ae9f962",
   "metadata": {},
   "outputs": [
    {
     "name": "stdout",
     "output_type": "stream",
     "text": [
      "{'header': {'active': True,\n",
      "            'addresses': [{'city': \"L'HaÃ¿-les-Roses\",\n",
      "                           'countryId': 'FRA',\n",
      "                           'email': 'fmaquet+48@fatherandsons.fr',\n",
      "                           'individual': {'civilityId': '001',\n",
      "                                          'firstName': 'Ousmane',\n",
      "                                          'lastName': 'Dembele'},\n",
      "                           'lines': [{'id': 1, 'value': '2 AllÃ©e du Stade'}],\n",
      "                           'phoneNumber': '+33602010341',\n",
      "                           'regionId': '',\n",
      "                           'types': ['DeliveryAddress'],\n",
      "                           'zipCode': '94240'},\n",
      "                          {'city': \"L'HaÃ¿-les-Roses\",\n",
      "                           'company': {'additionalName': 'Ousmane',\n",
      "                                       'legalFormId': '001',\n",
      "                                       'name': 'Dembele'},\n",
      "                           'countryId': 'FRA',\n",
      "                           'email': 'fmaquet+48@fatherandsons.fr',\n",
      "                           'lines': [{'id': 1, 'value': '2 AllÃ©e du Stade'}],\n",
      "                           'phoneNumber': '+33602010341',\n",
      "                           'regionId': '',\n",
      "                           'types': ['BillingAddress'],\n",
      "                           'zipCode': '94240'}],\n",
      "            'cancelStatus': 'None',\n",
      "            'customer': {'emails': [{'id': 1,\n",
      "                                     'value': 'fmaquet+48@fatherandsons.fr'}],\n",
      "                         'firstName': 'Ousmane',\n",
      "                         'id': 'W8651322294611',\n",
      "                         'lastName': 'Dembele',\n",
      "                         'phones': [{'type': 'HomePhone',\n",
      "                                     'value': '+33602010341'}]},\n",
      "            'deliveryDate': '2024-12-04T00:00:00',\n",
      "            'documentDate': '2024-12-04T09:03:57',\n",
      "            'documentKey': {'number': 71356,\n",
      "                            'stub': 'BWEB',\n",
      "                            'type': 'CustomerOrder'},\n",
      "            'effectiveDate': '2024-12-04T00:00:00',\n",
      "            'expiryDate': '2099-12-31T00:00:00',\n",
      "            'omniChannel': {'comment': '',\n",
      "                            'deliveryStoreId': 'BWEB',\n",
      "                            'deliveryType': 'CustomerDelivery',\n",
      "                            'deliveryWarehouseId': 'BWEB',\n",
      "                            'followUpStatus': 'Validated',\n",
      "                            'giftMessage': {'message': '', 'type': 'NoCard'},\n",
      "                            'tracking': '',\n",
      "                            'transporter': ''},\n",
      "            'references': {'external': '1684',\n",
      "                           'followUp': '0027',\n",
      "                           'internal': 'BWEB_CC _1684_0027'},\n",
      "            'salespersonId': '',\n",
      "            'storeId': 'BWEB',\n",
      "            'userDefinedTables': [{'id': 1, 'value': 'WEC'},\n",
      "                                  {'id': 2, 'value': 'COLFR'},\n",
      "                                  {'id': 3, 'value': ''}],\n",
      "            'visaStatus': 'NoSubjected'},\n",
      " 'lines': [{'active': True,\n",
      "            'additionalDescription': '',\n",
      "            'deliveryDate': '2024-12-04T00:00:00',\n",
      "            'description': 'CHEMISE REG CVM2C THM2 NI ',\n",
      "            'expiryDate': '2099-12-31T00:00:00',\n",
      "            'externalReference': '',\n",
      "            'id': 1,\n",
      "            'item': {'barcode': '',\n",
      "                     'catalogReference': '',\n",
      "                     'code': '',\n",
      "                     'id': '',\n",
      "                     'serialNumber': ''},\n",
      "            'packageReference': '',\n",
      "            'quantities': {'quantity': 1.0, 'remaining': 1.0},\n",
      "            'rank': 1,\n",
      "            'salespersonId': '',\n",
      "            'type': 'Comment',\n",
      "            'warehouseId': 'BWEB'},\n",
      "           {'active': True,\n",
      "            'additionalDescription': 'CHEMISE REG CVM2C THM2 NU',\n",
      "            'deliveryDate': '2024-12-04T00:00:00',\n",
      "            'description': 'CHEMISE REG CVM2C THM2 NI   E9 ROSE  M',\n",
      "            'expiryDate': '2099-12-31T00:00:00',\n",
      "            'externalReference': '',\n",
      "            'id': 2,\n",
      "            'item': {'barcode': '3666872014902',\n",
      "                     'catalogReference': '',\n",
      "                     'code': '01016754',\n",
      "                     'id': '01016754          045002         X',\n",
      "                     'serialNumber': ''},\n",
      "            'packageReference': '',\n",
      "            'quantities': {'quantity': 1.0, 'remaining': 1.0},\n",
      "            'rank': 2,\n",
      "            'salespersonId': '',\n",
      "            'type': 'Item',\n",
      "            'warehouseId': 'BWEB'}]}\n"
     ]
    }
   ],
   "source": [
    "pprint(data[0])"
   ]
  },
  {
   "cell_type": "code",
   "execution_count": null,
   "id": "0d77d8e0-6509-4138-96b1-56b9576f8df7",
   "metadata": {},
   "outputs": [],
   "source": []
  }
 ],
 "metadata": {
  "kernelspec": {
   "display_name": "Python 3 (ipykernel)",
   "language": "python",
   "name": "python3"
  },
  "language_info": {
   "codemirror_mode": {
    "name": "ipython",
    "version": 3
   },
   "file_extension": ".py",
   "mimetype": "text/x-python",
   "name": "python",
   "nbconvert_exporter": "python",
   "pygments_lexer": "ipython3",
   "version": "3.13.0"
  }
 },
 "nbformat": 4,
 "nbformat_minor": 5
}
